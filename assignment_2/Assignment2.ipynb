{
 "cells": [
  {
   "cell_type": "markdown",
   "metadata": {
    "id": "KMd5XFEMpmkG"
   },
   "source": [
    "<html>\n",
    "<body>\n",
    "    <center> \n",
    "        <h1><u>Assignment 2</u></h1>\n",
    "        <h3> Customizing the code to run your own experiments</h3>\n",
    "    </center>\n",
    "</body>\n",
    "</html>"
   ]
  },
  {
   "cell_type": "markdown",
   "metadata": {
    "id": "qvQQRsLvpmkM"
   },
   "source": [
    "### Learning Outcomes\n",
    "\n",
    "In assignment 1 we covered two things mainly - (1) introducing you to a pipeline for coding ML projects - the data loader, loading models, calculating losses and using an optimizer to update the weights of the model (i.e. learning  the weights of the model). But we didn't look into the nuts and bolts of these pieces. Assignment 2 will delve deeper into these pieces and learn how to customize them.\n",
    "\n",
    "There are two major components:\n",
    "\n",
    "- Learning how to load your own data.\n",
    "- Writing a custom CNN model to classify these images. "
   ]
  },
  {
   "cell_type": "markdown",
   "metadata": {
    "id": "CIBmTQh_pmkN"
   },
   "source": [
    "### Please specify your Name, Email ID and forked repository url here:\n",
    "- Name: Zixian Li\n",
    "- Email: zli1@hsph.harvard.edu\n",
    "- Link to your forked github repository: https://github.com/dave98lzx/Harvard_BAI"
   ]
  },
  {
   "cell_type": "code",
   "execution_count": 1,
   "metadata": {
    "executionInfo": {
     "elapsed": 810,
     "status": "ok",
     "timestamp": 1614056643960,
     "user": {
      "displayName": "Lee Dave",
      "photoUrl": "",
      "userId": "05486696857105351916"
     },
     "user_tz": -480
    },
    "id": "JLZ79lZUpmkN"
   },
   "outputs": [],
   "source": [
    "### General libraries useful for python ###\n",
    "\n",
    "import os\n",
    "import sys\n",
    "from tqdm.notebook import tqdm\n",
    "import json\n",
    "import random\n",
    "import pickle\n",
    "import copy\n",
    "from IPython.display import display\n",
    "import ipywidgets as widgets"
   ]
  },
  {
   "cell_type": "code",
   "execution_count": 2,
   "metadata": {
    "colab": {
     "base_uri": "https://localhost:8080/"
    },
    "executionInfo": {
     "elapsed": 1143,
     "status": "ok",
     "timestamp": 1614056645733,
     "user": {
      "displayName": "Lee Dave",
      "photoUrl": "",
      "userId": "05486696857105351916"
     },
     "user_tz": -480
    },
    "id": "gLOqAsD4yTjn",
    "outputId": "4843bd5d-7726-4c55-99e3-e9a6244f5e01"
   },
   "outputs": [
    {
     "name": "stdout",
     "output_type": "stream",
     "text": [
      "Mounted at /content/drive\n"
     ]
    }
   ],
   "source": [
    "from google.colab import drive\n",
    "drive.mount('/content/drive', force_remount=True)"
   ]
  },
  {
   "cell_type": "code",
   "execution_count": 3,
   "metadata": {
    "colab": {
     "base_uri": "https://localhost:8080/"
    },
    "executionInfo": {
     "elapsed": 455,
     "status": "ok",
     "timestamp": 1614056646790,
     "user": {
      "displayName": "Lee Dave",
      "photoUrl": "",
      "userId": "05486696857105351916"
     },
     "user_tz": -480
    },
    "id": "NBYo9vxspmkN",
    "outputId": "86f7fed2-4cbe-495f-dd45-77b60487cf57"
   },
   "outputs": [
    {
     "name": "stdout",
     "output_type": "stream",
     "text": [
      "Your github directory is :/content/drive/MyDrive/Harvard_BAI\n"
     ]
    }
   ],
   "source": [
    "### Finding where you clone your repo, so that code upstream paths can be specified programmatically ####\n",
    "git_dir = '/content/drive/MyDrive/Harvard_BAI'\n",
    "print('Your github directory is :%s'%git_dir)"
   ]
  },
  {
   "cell_type": "code",
   "execution_count": 4,
   "metadata": {
    "executionInfo": {
     "elapsed": 816,
     "status": "ok",
     "timestamp": 1614056648465,
     "user": {
      "displayName": "Lee Dave",
      "photoUrl": "",
      "userId": "05486696857105351916"
     },
     "user_tz": -480
    },
    "id": "vSIu5jATTZn7"
   },
   "outputs": [],
   "source": [
    "assignment_2_folder = \"%s/assignment_2\"%git_dir"
   ]
  },
  {
   "cell_type": "code",
   "execution_count": 5,
   "metadata": {
    "executionInfo": {
     "elapsed": 551,
     "status": "ok",
     "timestamp": 1614056649467,
     "user": {
      "displayName": "Lee Dave",
      "photoUrl": "",
      "userId": "05486696857105351916"
     },
     "user_tz": -480
    },
    "id": "qBHqiYHSMY9t"
   },
   "outputs": [],
   "source": [
    "os.chdir(assignment_2_folder)"
   ]
  },
  {
   "cell_type": "code",
   "execution_count": 6,
   "metadata": {
    "executionInfo": {
     "elapsed": 630,
     "status": "ok",
     "timestamp": 1614056650626,
     "user": {
      "displayName": "Lee Dave",
      "photoUrl": "",
      "userId": "05486696857105351916"
     },
     "user_tz": -480
    },
    "id": "L2vk8XYjpmkO"
   },
   "outputs": [],
   "source": [
    "### Libraries for visualizing our results and data ###\n",
    "from PIL import Image\n",
    "import matplotlib.pyplot as plt"
   ]
  },
  {
   "cell_type": "code",
   "execution_count": 7,
   "metadata": {
    "executionInfo": {
     "elapsed": 1088,
     "status": "ok",
     "timestamp": 1614056652152,
     "user": {
      "displayName": "Lee Dave",
      "photoUrl": "",
      "userId": "05486696857105351916"
     },
     "user_tz": -480
    },
    "id": "stYTIO0EpmkP",
    "scrolled": false
   },
   "outputs": [],
   "source": [
    "### Import PyTorch and its components ###\n",
    "import torch\n",
    "import torchvision\n",
    "from torchvision import transforms\n",
    "import torch.nn as nn\n",
    "import torch.optim as optim"
   ]
  },
  {
   "cell_type": "markdown",
   "metadata": {
    "id": "pw2HumdXpmkP"
   },
   "source": [
    "#### Let's load our flexible code-base which you will build on for your research projects in future assignments.\n",
    "\n",
    "Like assignment 1, we are loading in our code-base for convenient dataloading/model loading etc."
   ]
  },
  {
   "cell_type": "code",
   "execution_count": 8,
   "metadata": {
    "colab": {
     "base_uri": "https://localhost:8080/"
    },
    "executionInfo": {
     "elapsed": 701,
     "status": "ok",
     "timestamp": 1614056654651,
     "user": {
      "displayName": "Lee Dave",
      "photoUrl": "",
      "userId": "05486696857105351916"
     },
     "user_tz": -480
    },
    "id": "5bU3tVqsFRT_",
    "outputId": "cca0aa59-f53a-4f6d-81f3-a0f3262bf43b"
   },
   "outputs": [
    {
     "name": "stdout",
     "output_type": "stream",
     "text": [
      "Models are being loaded from: /content/drive/MyDrive/Harvard_BAI/res/models\n",
      "Loaders are being loaded from: /content/drive/MyDrive/Harvard_BAI/res/loader\n",
      "Help on function get_loader in module loader.loader:\n",
      "\n",
      "get_loader(name)\n",
      "    get_loader\n",
      "    :param name:\n",
      "\n",
      "Help on function get_model in module models.models:\n",
      "\n",
      "get_model(MODEL_ARCH, NUM_CLASSES)\n",
      "\n"
     ]
    }
   ],
   "source": [
    "### Making helper code under the folder res available. This includes loaders, models, etc. ###\n",
    "sys.path.append('%s/res/'%git_dir)\n",
    "from models.models import get_model\n",
    "from loader.loader import get_loader\n",
    "help(get_loader)\n",
    "help(get_model)"
   ]
  },
  {
   "cell_type": "code",
   "execution_count": 10,
   "metadata": {
    "colab": {
     "base_uri": "https://localhost:8080/"
    },
    "executionInfo": {
     "elapsed": 742,
     "status": "ok",
     "timestamp": 1614056663191,
     "user": {
      "displayName": "Lee Dave",
      "photoUrl": "",
      "userId": "05486696857105351916"
     },
     "user_tz": -480
    },
    "id": "2JmltNP-RfKX",
    "outputId": "f72a66a0-b574-4798-c96e-e92806b3ab03"
   },
   "outputs": [
    {
     "data": {
      "text/plain": [
       "True"
      ]
     },
     "execution_count": 10,
     "metadata": {
      "tags": []
     },
     "output_type": "execute_result"
    }
   ],
   "source": [
    "### Setting up Weights and Biases for tracking your experiments. ###\n",
    "\n",
    "## We have Weights and Biases (wandb.ai) integrated into the code for easy visualization of results and for tracking performance. `Please make an account at wandb.ai, and follow the steps to login to your account!`\n",
    "\n",
    "#%pip install --upgrade git+git://github.com/wandb/client.git@task/debug-init-wandb#egg=wandb\n",
    "import wandb\n",
    "wandb.login()"
   ]
  },
  {
   "cell_type": "markdown",
   "metadata": {
    "id": "nAVtuHh0pmkQ"
   },
   "source": [
    "#### See those paths printed above?"
   ]
  },
  {
   "cell_type": "markdown",
   "metadata": {
    "id": "MV_MPAjxpmkQ"
   },
   "source": [
    "As earlier, models i.e. architectures are being loaded from `res/models`. In this assignment we will be using the ResNet18 architecture, which is being loaded from the script `res/ResNet.py`"
   ]
  },
  {
   "cell_type": "markdown",
   "metadata": {
    "id": "wgpN78WapmkR"
   },
   "source": [
    "### Specifying settings/hyperparameters for our code below ###"
   ]
  },
  {
   "cell_type": "code",
   "execution_count": 12,
   "metadata": {
    "executionInfo": {
     "elapsed": 708,
     "status": "ok",
     "timestamp": 1614056697300,
     "user": {
      "displayName": "Lee Dave",
      "photoUrl": "",
      "userId": "05486696857105351916"
     },
     "user_tz": -480
    },
    "id": "0Rp-0B0opmkR"
   },
   "outputs": [],
   "source": [
    "wandb_config = {}\n",
    "wandb_config['batch_size'] = 10\n",
    "wandb_config['base_lr'] = 0.01\n",
    "wandb_config['model_arch'] = 'ResNet18'\n",
    "wandb_config['num_classes'] = 10\n",
    "wandb_config['run_name'] = 'assignment_2'\n",
    "\n",
    "### If you are using a CPU, please set wandb_config['use_gpu'] = 0 below. However, if you are using a GPU, leave it unchanged ####\n",
    "wandb_config['use_gpu'] = 1\n",
    "\n",
    "wandb_config['num_epochs'] = 2\n",
    "wandb_config['git_dir'] = git_dir"
   ]
  },
  {
   "cell_type": "markdown",
   "metadata": {
    "id": "pAONDMnApmkR"
   },
   "source": [
    "By changing above, different experiments can be run. For example, you can specify which model architecture to load, which dataset you will be loading, and so on."
   ]
  },
  {
   "cell_type": "markdown",
   "metadata": {
    "id": "cdgYVaVppmkR"
   },
   "source": [
    "### Data Loading ###"
   ]
  },
  {
   "cell_type": "markdown",
   "metadata": {
    "id": "rSeW7ZgopmkS"
   },
   "source": [
    "The most common task many of you will be doing in your projects will be running a script on a new dataset. In PyTorch this is done using data loaders, and it is extremely important to understand this works. In next assignment, you will be writing your own dataloader. For now, we only expose you to basic data loading which for the MNIST dataset for which PyTorch provides easy functions."
   ]
  },
  {
   "cell_type": "markdown",
   "metadata": {
    "id": "fROn07mNpmkS"
   },
   "source": [
    "### Let's load our own custom dataset. We will be using the Cats vs Dogs dataset from Kaggle.com\n",
    "\n",
    "Download the data from https://www.kaggle.com/c/dogs-vs-cats/data.\n",
    "\n",
    "Store it in `assignment_2/data/` and unzip the files.\n",
    "\n",
    "So, the train images should be inside the directory: Harvard_BAI/assignment_2/data/dogs-vs-cats/train/"
   ]
  },
  {
   "cell_type": "markdown",
   "metadata": {
    "id": "A_f4QqhkpmkT"
   },
   "source": [
    "Data Transforms tell PyTorch how to pre-process your data. Recall that images are stored with values between 0-255 usually. One very common pre-processing for images is to normalize to be 0 mean and 1 standard deviation. This pre-processing makes the task easier for neural networks. There are many, many kinds of normalization in deep learning, the most basic one being those imposed on the image data while loading it."
   ]
  },
  {
   "cell_type": "markdown",
   "metadata": {
    "id": "faqQRpGuTLsd"
   },
   "source": [
    "### Let's create a file list of all our image files"
   ]
  },
  {
   "cell_type": "code",
   "execution_count": 13,
   "metadata": {
    "colab": {
     "base_uri": "https://localhost:8080/"
    },
    "executionInfo": {
     "elapsed": 735,
     "status": "ok",
     "timestamp": 1614056701724,
     "user": {
      "displayName": "Lee Dave",
      "photoUrl": "",
      "userId": "05486696857105351916"
     },
     "user_tz": -480
    },
    "id": "dDQyNNj627eo",
    "outputId": "b570c8d8-cf21-425f-dfdc-c11e703e5f40"
   },
   "outputs": [
    {
     "data": {
      "text/plain": [
       "['dog.2013.jpg',\n",
       " 'cat.4487.jpg',\n",
       " 'cat.1863.jpg',\n",
       " 'cat.2817.jpg',\n",
       " 'dog.10658.jpg']"
      ]
     },
     "execution_count": 13,
     "metadata": {
      "tags": []
     },
     "output_type": "execute_result"
    }
   ],
   "source": [
    "train_folder_files = os.listdir('%s/data/dogs-vs-cats/train/'%assignment_2_folder)\n",
    "random.shuffle(train_folder_files)\n",
    "train_folder_files[:5]"
   ]
  },
  {
   "cell_type": "code",
   "execution_count": 14,
   "metadata": {
    "colab": {
     "base_uri": "https://localhost:8080/"
    },
    "executionInfo": {
     "elapsed": 899,
     "status": "ok",
     "timestamp": 1614056702093,
     "user": {
      "displayName": "Lee Dave",
      "photoUrl": "",
      "userId": "05486696857105351916"
     },
     "user_tz": -480
    },
    "id": "nKleAnDzI94c",
    "outputId": "50e6c524-3d99-484f-cbee-dd7a87048425"
   },
   "outputs": [
    {
     "data": {
      "text/plain": [
       "25002"
      ]
     },
     "execution_count": 14,
     "metadata": {
      "tags": []
     },
     "output_type": "execute_result"
    }
   ],
   "source": [
    "total_points = len(train_folder_files)\n",
    "total_points"
   ]
  },
  {
   "cell_type": "code",
   "execution_count": 15,
   "metadata": {
    "executionInfo": {
     "elapsed": 1029,
     "status": "ok",
     "timestamp": 1614056702451,
     "user": {
      "displayName": "Lee Dave",
      "photoUrl": "",
      "userId": "05486696857105351916"
     },
     "user_tz": -480
    },
    "id": "xHkSt_fgJF3n"
   },
   "outputs": [],
   "source": [
    "train_files = train_folder_files[:int(0.8*total_points)]\n",
    "val_files = train_folder_files[int(0.8*total_points):]"
   ]
  },
  {
   "cell_type": "code",
   "execution_count": 16,
   "metadata": {
    "executionInfo": {
     "elapsed": 805,
     "status": "ok",
     "timestamp": 1614056702452,
     "user": {
      "displayName": "Lee Dave",
      "photoUrl": "",
      "userId": "05486696857105351916"
     },
     "user_tz": -480
    },
    "id": "0sTMxWIXTODZ"
   },
   "outputs": [],
   "source": [
    "test_files = os.listdir('%s/data/dogs-vs-cats/test1/'%assignment_2_folder)"
   ]
  },
  {
   "cell_type": "code",
   "execution_count": 17,
   "metadata": {
    "executionInfo": {
     "elapsed": 936,
     "status": "ok",
     "timestamp": 1614056702817,
     "user": {
      "displayName": "Lee Dave",
      "photoUrl": "",
      "userId": "05486696857105351916"
     },
     "user_tz": -480
    },
    "id": "Y93LkDld3J2X"
   },
   "outputs": [],
   "source": [
    "labels_dictionary = {}\n",
    "with open('data/train_file_list.txt','w') as F:\n",
    "    for t in train_files:\n",
    "        file_path = '%s/data/dogs-vs-cats/train/%s'%(assignment_2_folder, t)\n",
    "        if 'dog' in t:\n",
    "            labels_dictionary[file_path] = 0\n",
    "            print(file_path, file = F)\n",
    "        elif 'cat' in t:\n",
    "            labels_dictionary[file_path] = 1\n",
    "            print(file_path, file = F)\n",
    "        \n",
    "\n",
    "with open('data/val_file_list.txt','w') as F:\n",
    "    for t in train_files:\n",
    "        file_path = '%s/data/dogs-vs-cats/train/%s'%(assignment_2_folder, t)\n",
    "        if 'dog' in t:\n",
    "            labels_dictionary[file_path] = 0\n",
    "            print(file_path, file = F)\n",
    "        elif 'cat' in t:\n",
    "            labels_dictionary[file_path] = 1\n",
    "            print(file_path, file = F)\n",
    "\n",
    "with open('data/test_file_list.txt','w') as F:\n",
    "    for t in test_files:\n",
    "        file_path = '%s/data/dogs-vs-cats/test1/%s'%(assignment_2_folder, t)\n",
    "        labels_dictionary[file_path] = -1\n",
    "        print(file_path, file = F)"
   ]
  },
  {
   "cell_type": "code",
   "execution_count": 18,
   "metadata": {
    "colab": {
     "base_uri": "https://localhost:8080/",
     "height": 281
    },
    "executionInfo": {
     "elapsed": 1195,
     "status": "ok",
     "timestamp": 1614056703334,
     "user": {
      "displayName": "Lee Dave",
      "photoUrl": "",
      "userId": "05486696857105351916"
     },
     "user_tz": -480
    },
    "id": "RVFUGStX3oKR",
    "outputId": "30d119b7-d089-4b0f-a949-62542bdcc724"
   },
   "outputs": [
    {
     "name": "stdout",
     "output_type": "stream",
     "text": [
      "/content/drive/MyDrive/Harvard_BAI/assignment_2/data/dogs-vs-cats/train/dog.9854.jpg\n"
     ]
    },
    {
     "data": {
      "image/png": "[encoded data removed]",
      "text/plain": [
       "<Figure size 432x288 with 1 Axes>"
      ]
     },
     "metadata": {
      "needs_background": "light",
      "tags": []
     },
     "output_type": "display_data"
    }
   ],
   "source": [
    "random_data_point = random.choice(list(labels_dictionary.keys()))\n",
    "print(random_data_point)\n",
    "plt.imshow(Image.open(random_data_point))\n",
    "plt.title('Category: %s'%labels_dictionary[random_data_point])\n",
    "plt.axis('off')\n",
    "plt.show()"
   ]
  },
  {
   "cell_type": "markdown",
   "metadata": {
    "id": "OcMXyppD-vsg"
   },
   "source": [
    "Above, you should see 0 if it's a dog, 1 if it's a cat, and -1 if it's an image for which we don't have a label (test set)."
   ]
  },
  {
   "cell_type": "code",
   "execution_count": 19,
   "metadata": {
    "executionInfo": {
     "elapsed": 745,
     "status": "ok",
     "timestamp": 1614056707595,
     "user": {
      "displayName": "Lee Dave",
      "photoUrl": "",
      "userId": "05486696857105351916"
     },
     "user_tz": -480
    },
    "id": "tz0i23ogApQF"
   },
   "outputs": [],
   "source": [
    "with open('%s/data/labels_dictionary.p'%assignment_2_folder, 'wb') as F:\n",
    "    pickle.dump(labels_dictionary, F)"
   ]
  },
  {
   "cell_type": "markdown",
   "metadata": {
    "id": "e-IM8j6vKGTg"
   },
   "source": [
    "# Using our custom data-loader. \n",
    "\n",
    "Our data-loader is called cats_dogs_loader which is in `res/loader/cats_dogs_loader`. Read this file carefully! It's extremely important to understand this. \n",
    "\n",
    "\n",
    "An overview to help you understand the file: when you first call get_loader() below, you only tell python that you will be creating objects from the file cats_dogs_loader."
   ]
  },
  {
   "cell_type": "code",
   "execution_count": 20,
   "metadata": {
    "executionInfo": {
     "elapsed": 727,
     "status": "ok",
     "timestamp": 1614056709352,
     "user": {
      "displayName": "Lee Dave",
      "photoUrl": "",
      "userId": "05486696857105351916"
     },
     "user_tz": -480
    },
    "id": "GMYXrJgn74-P"
   },
   "outputs": [],
   "source": [
    "file_list_loader = get_loader('cats_dogs_loader')"
   ]
  },
  {
   "cell_type": "code",
   "execution_count": 21,
   "metadata": {
    "executionInfo": {
     "elapsed": 748,
     "status": "ok",
     "timestamp": 1614056710487,
     "user": {
      "displayName": "Lee Dave",
      "photoUrl": "",
      "userId": "05486696857105351916"
     },
     "user_tz": -480
    },
    "id": "BwVYrw4va5OL"
   },
   "outputs": [],
   "source": [
    "data_transforms = {\n",
    "    'train': transforms.Compose([\n",
    "        transforms.RandomResizedCrop(224),\n",
    "        transforms.RandomHorizontalFlip(),\n",
    "        transforms.ToTensor(),\n",
    "        transforms.Normalize([0.485, 0.456, 0.406], [0.229, 0.224, 0.225])\n",
    "    ]),\n",
    "    'val': transforms.Compose([\n",
    "        transforms.Resize(256),\n",
    "        transforms.CenterCrop(224),\n",
    "        transforms.ToTensor(),\n",
    "        transforms.Normalize([0.485, 0.456, 0.406], [0.229, 0.224, 0.225])\n",
    "    ]),\n",
    "     'test': transforms.Compose([\n",
    "        transforms.Resize(256),\n",
    "        transforms.CenterCrop(224),\n",
    "        transforms.ToTensor(),\n",
    "        transforms.Normalize([0.485, 0.456, 0.406], [0.229, 0.224, 0.225])\n",
    "    ]),\n",
    "}"
   ]
  },
  {
   "cell_type": "markdown",
   "metadata": {
    "id": "JuzzYUmjpmkT"
   },
   "source": [
    "In assignment 1 we just used `torchvision.datasets.MNIST` to load MNIST data. But now we, can't rely on that function as we have a custom dataset. Here we learn how to handle such custom data."
   ]
  },
  {
   "cell_type": "markdown",
   "metadata": {
    "id": "1peYCIkede03"
   },
   "source": [
    "We use our custom file_list_loader to load data that we have downloaded and unzipped. Above, we created file lists which contain paths to our train, validation and test datasets, here we will pass these file lists to the file_list_loader.\n",
    "\n",
    "### Open the file cats_dogs_loaders.py, you will see a class FileListFolder.\n",
    "\n",
    "In the file loader.py we load this class FileListFolder in the function get_loader. So, when we run get_loader(\"cats_dogs_loader\") above, what is returned is the class FileListFolder. So, now when we run file_list_folder(), the arguments inside are passed to the class FileListFolder as described in cats_dogs_loader.py.\n",
    "\n",
    "Thus, the first time you pass this, the __init__ function is run i.e. an object of that class is initialized. As you can see, the __init__ function in cats_dogs_loader.py requires 3 attributes - a file list, a labels dictionary and a pytorch transform object. To create a new data loader, we need to create a file lie cats_dogs_loder.py and make necessary changes to it.\n",
    "\n",
    "\n",
    "The file lists contain paths to train/val/test files. The labels dictionary is a dictionary storing category numbers for each of these files, and the transforms are the pre-processing pytorch does to our loaded images before starting trainig."
   ]
  },
  {
   "cell_type": "code",
   "execution_count": 22,
   "metadata": {
    "executionInfo": {
     "elapsed": 707,
     "status": "ok",
     "timestamp": 1614056715180,
     "user": {
      "displayName": "Lee Dave",
      "photoUrl": "",
      "userId": "05486696857105351916"
     },
     "user_tz": -480
    },
    "id": "JO9Oy04kITzd"
   },
   "outputs": [],
   "source": [
    "dsets = {}\n",
    "dsets['train'] = file_list_loader('%s/data/train_file_list.txt'%assignment_2_folder, '%s/data/labels_dictionary.p'%assignment_2_folder, data_transforms['train'])\n",
    "dsets['val'] = file_list_loader('%s/data/val_file_list.txt'%assignment_2_folder, '%s/data/labels_dictionary.p'%assignment_2_folder, data_transforms['val'])\n",
    "dsets['test'] = file_list_loader('%s/data/test_file_list.txt'%assignment_2_folder, '%s/data/labels_dictionary.p'%assignment_2_folder, data_transforms['test'])"
   ]
  },
  {
   "cell_type": "code",
   "execution_count": 23,
   "metadata": {
    "executionInfo": {
     "elapsed": 596,
     "status": "ok",
     "timestamp": 1614056716245,
     "user": {
      "displayName": "Lee Dave",
      "photoUrl": "",
      "userId": "05486696857105351916"
     },
     "user_tz": -480
    },
    "id": "kMPWCW6jCHFh"
   },
   "outputs": [],
   "source": [
    "### Above, we created datasets. Now, we will pass them into pytorch's inbuild dataloaders, \n",
    "### these will help us load batches of data for training.\n",
    "dset_loaders = {}\n",
    "dset_loaders['train'] = torch.utils.data.DataLoader(dsets['train'], batch_size=wandb_config['batch_size'], shuffle = True, num_workers=2,drop_last=False)\n",
    "dset_loaders['val'] = torch.utils.data.DataLoader(dsets['val'], batch_size=wandb_config['batch_size'], shuffle = False, num_workers=2,drop_last=False)\n",
    "dset_loaders['test'] = torch.utils.data.DataLoader(dsets['test'], batch_size=wandb_config['batch_size'], shuffle = True, num_workers=2,drop_last=False)"
   ]
  },
  {
   "cell_type": "code",
   "execution_count": 24,
   "metadata": {
    "executionInfo": {
     "elapsed": 715,
     "status": "ok",
     "timestamp": 1614056717481,
     "user": {
      "displayName": "Lee Dave",
      "photoUrl": "",
      "userId": "05486696857105351916"
     },
     "user_tz": -480
    },
    "id": "PEDTP2GnCUOC"
   },
   "outputs": [],
   "source": [
    "data_sizes = {}\n",
    "data_sizes['train'] = len(dsets['train'])\n",
    "data_sizes['val'] = len(dsets['val'])\n",
    "data_sizes['test'] = len(dsets['test'])"
   ]
  },
  {
   "cell_type": "markdown",
   "metadata": {
    "id": "_xonOzJQeO0Q"
   },
   "source": [
    "## Loading model using PyTorch's in-built methods"
   ]
  },
  {
   "cell_type": "code",
   "execution_count": 25,
   "metadata": {
    "executionInfo": {
     "elapsed": 712,
     "status": "ok",
     "timestamp": 1614056719839,
     "user": {
      "displayName": "Lee Dave",
      "photoUrl": "",
      "userId": "05486696857105351916"
     },
     "user_tz": -480
    },
    "id": "-BtzO9dveSaF"
   },
   "outputs": [],
   "source": [
    "model = torchvision.models.resnet18(pretrained = False)"
   ]
  },
  {
   "cell_type": "markdown",
   "metadata": {
    "id": "NKPyscMfebAw"
   },
   "source": [
    "Pytorch makes it easy to load many standard models like resnet18 above. There are many more available. You can see the list here -  https://github.com/pytorch/vision/tree/master/torchvision/models.\n",
    "\n",
    "But, what if you want to build your own custom model? Below, we see how to load your custom models which you would write, and store in the `res/models/` folder. For current purposes, I have created a copy of the popular ResNet architectures in the folder which we will be loading and using."
   ]
  },
  {
   "cell_type": "markdown",
   "metadata": {
    "id": "-39kO7WjpmkU"
   },
   "source": [
    "### We will use the `get_model` functionality to load a CNN architecture."
   ]
  },
  {
   "cell_type": "code",
   "execution_count": 26,
   "metadata": {
    "colab": {
     "base_uri": "https://localhost:8080/",
     "height": 103,
     "referenced_widgets": [
      "b213ceb4c786456ab4994ebc418e54a3",
      "5d4d39b604cb4955a01460cad0a4b64f",
      "9704da5310ff474eaba108fdfd33b0ac",
      "a4e907be908f4f5bb0608954b11c7f81",
      "e3dcf743b697411e9079464c6b558eff",
      "3d60a4688daf4a418f4d9c4f00ae693b",
      "22019e2d5be14c179a757640cf4435b8",
      "52a1668daffc4076827979d8ff556984"
     ]
    },
    "executionInfo": {
     "elapsed": 11419,
     "status": "ok",
     "timestamp": 1614056733965,
     "user": {
      "displayName": "Lee Dave",
      "photoUrl": "",
      "userId": "05486696857105351916"
     },
     "user_tz": -480
    },
    "id": "ofvHKm47MxST",
    "outputId": "e95f57f9-11f7-472b-878e-00f94a1a76cc"
   },
   "outputs": [
    {
     "name": "stderr",
     "output_type": "stream",
     "text": [
      "Downloading: \"https://download.pytorch.org/models/resnet18-5c106cde.pth\" to /root/.cache/torch/hub/checkpoints/resnet18-5c106cde.pth\n"
     ]
    },
    {
     "data": {
      "application/vnd.jupyter.widget-view+json": {
       "model_id": "b213ceb4c786456ab4994ebc418e54a3",
       "version_major": 2,
       "version_minor": 0
      },
      "text/plain": [
       "HBox(children=(FloatProgress(value=0.0, max=46827520.0), HTML(value='')))"
      ]
     },
     "metadata": {
      "tags": []
     },
     "output_type": "display_data"
    },
    {
     "name": "stdout",
     "output_type": "stream",
     "text": [
      "\n"
     ]
    }
   ],
   "source": [
    "### Since we pass ResNet18 below, this will get relayed to \n",
    "### the get_model function loaded from models.py. \n",
    "### As you can see, that would load the resnet18 model from the file\n",
    "### ResNet18.py at `res/models/`.\n",
    "model = get_model('ResNet18', 1000)\n",
    "in_filters = model.fc.in_features\n",
    "model.fc = nn.Linear(in_features=in_filters, out_features=2)\n",
    "model.cuda();\n",
    "\n",
    "\n",
    "## above, we first load the ResNet18 architecture, starting with weights from ImageNet.\n",
    "## that's why we have pre-training = True. But then, our task does not have 1000 classes, \n",
    "## but only 2 classes (dogs and cats), so we replace the final layer of our model\n",
    "## with a Linear layer with out_features = 2\n",
    "## finally, we move our model to the GPU with .cuda()"
   ]
  },
  {
   "cell_type": "markdown",
   "metadata": {
    "id": "zFXtAksGbif_"
   },
   "source": [
    "# Complete the code below to load a resnet34 model."
   ]
  },
  {
   "cell_type": "code",
   "execution_count": 27,
   "metadata": {
    "colab": {
     "base_uri": "https://localhost:8080/",
     "height": 103,
     "referenced_widgets": [
      "bd1e3d523e474aeebfcd812dee6dd865",
      "3db11449fee148689b9383b1f766339d",
      "60bea0996b294dcab163e4514b1eeddd",
      "cf7b0f4ce9e8487cba9dc6c4ce7eaef0",
      "0a9a56b41c4643bcbcbcba2d0e7e0516",
      "466f58c1f3d146e19a23d9a239a6d2e8",
      "b6ba9eb63ac746048b59c65098e6a0dd",
      "b2e0c9740a37457d828525bfe76a52f8"
     ]
    },
    "executionInfo": {
     "elapsed": 1761,
     "status": "ok",
     "timestamp": 1614056759038,
     "user": {
      "displayName": "Lee Dave",
      "photoUrl": "",
      "userId": "05486696857105351916"
     },
     "user_tz": -480
    },
    "id": "ZXhnbYKQbhG1",
    "outputId": "58dbb41f-5a0e-42d1-96c6-06d767a30325"
   },
   "outputs": [
    {
     "name": "stderr",
     "output_type": "stream",
     "text": [
      "Downloading: \"https://download.pytorch.org/models/resnet34-333f7ec4.pth\" to /root/.cache/torch/hub/checkpoints/resnet34-333f7ec4.pth\n"
     ]
    },
    {
     "data": {
      "application/vnd.jupyter.widget-view+json": {
       "model_id": "bd1e3d523e474aeebfcd812dee6dd865",
       "version_major": 2,
       "version_minor": 0
      },
      "text/plain": [
       "HBox(children=(FloatProgress(value=0.0, max=87306240.0), HTML(value='')))"
      ]
     },
     "metadata": {
      "tags": []
     },
     "output_type": "display_data"
    },
    {
     "name": "stdout",
     "output_type": "stream",
     "text": [
      "\n"
     ]
    }
   ],
   "source": [
    "### Above we loaded a ResNet18 model. \n",
    "### Read the file `res/models/models.py` and decide what you \n",
    "### should fill below to load the ResNet34 model instead.\n",
    "\n",
    "model = get_model('ResNet34', 1000)\n",
    "in_filters = model.fc.in_features\n",
    "model.fc = nn.Linear(in_features=in_filters, out_features=wandb_config['num_classes'])\n",
    "model.cuda();"
   ]
  },
  {
   "cell_type": "markdown",
   "metadata": {
    "id": "qdfV0B5ob9vr"
   },
   "source": [
    "# What changes would you need to make to load a resnet50 model?\n",
    "\n",
    "As you can see there is a function called resnet50 in the file ResNet.py in `res/models/ResNet.py` but this function is not loaded in models.py. So, we would need to add another if statement to load resnet50, like we have for resnet34 and resnet18. "
   ]
  },
  {
   "cell_type": "markdown",
   "metadata": {
    "id": "TR9UeMmvpmkV"
   },
   "source": [
    "### Curious what the model architecture looks like?"
   ]
  },
  {
   "cell_type": "code",
   "execution_count": 28,
   "metadata": {
    "colab": {
     "base_uri": "https://localhost:8080/"
    },
    "executionInfo": {
     "elapsed": 796,
     "status": "ok",
     "timestamp": 1614057231940,
     "user": {
      "displayName": "Lee Dave",
      "photoUrl": "",
      "userId": "05486696857105351916"
     },
     "user_tz": -480
    },
    "id": "Ibdp07pSpmkV",
    "outputId": "32f4d6d2-9782-499b-9162-86251ac2c03c"
   },
   "outputs": [
    {
     "name": "stdout",
     "output_type": "stream",
     "text": [
      "ResNet(\n",
      "  (conv1): Conv2d(3, 64, kernel_size=(7, 7), stride=(2, 2), padding=(3, 3), bias=False)\n",
      "  (bn1): BatchNorm2d(64, eps=1e-05, momentum=0.1, affine=True, track_running_stats=True)\n",
      "  (relu): ReLU(inplace=True)\n",
      "  (maxpool): MaxPool2d(kernel_size=3, stride=2, padding=1, dilation=1, ceil_mode=False)\n",
      "  (layer1): Sequential(\n",
      "    (0): BasicBlock(\n",
      "      (conv1): Conv2d(64, 64, kernel_size=(3, 3), stride=(1, 1), padding=(1, 1), bias=False)\n",
      "      (bn1): BatchNorm2d(64, eps=1e-05, momentum=0.1, affine=True, track_running_stats=True)\n",
      "      (relu): ReLU(inplace=True)\n",
      "      (conv2): Conv2d(64, 64, kernel_size=(3, 3), stride=(1, 1), padding=(1, 1), bias=False)\n",
      "      (bn2): BatchNorm2d(64, eps=1e-05, momentum=0.1, affine=True, track_running_stats=True)\n",
      "    )\n",
      "    (1): BasicBlock(\n",
      "      (conv1): Conv2d(64, 64, kernel_size=(3, 3), stride=(1, 1), padding=(1, 1), bias=False)\n",
      "      (bn1): BatchNorm2d(64, eps=1e-05, momentum=0.1, affine=True, track_running_stats=True)\n",
      "      (relu): ReLU(inplace=True)\n",
      "      (conv2): Conv2d(64, 64, kernel_size=(3, 3), stride=(1, 1), padding=(1, 1), bias=False)\n",
      "      (bn2): BatchNorm2d(64, eps=1e-05, momentum=0.1, affine=True, track_running_stats=True)\n",
      "    )\n",
      "    (2): BasicBlock(\n",
      "      (conv1): Conv2d(64, 64, kernel_size=(3, 3), stride=(1, 1), padding=(1, 1), bias=False)\n",
      "      (bn1): BatchNorm2d(64, eps=1e-05, momentum=0.1, affine=True, track_running_stats=True)\n",
      "      (relu): ReLU(inplace=True)\n",
      "      (conv2): Conv2d(64, 64, kernel_size=(3, 3), stride=(1, 1), padding=(1, 1), bias=False)\n",
      "      (bn2): BatchNorm2d(64, eps=1e-05, momentum=0.1, affine=True, track_running_stats=True)\n",
      "    )\n",
      "  )\n",
      "  (layer2): Sequential(\n",
      "    (0): BasicBlock(\n",
      "      (conv1): Conv2d(64, 128, kernel_size=(3, 3), stride=(2, 2), padding=(1, 1), bias=False)\n",
      "      (bn1): BatchNorm2d(128, eps=1e-05, momentum=0.1, affine=True, track_running_stats=True)\n",
      "      (relu): ReLU(inplace=True)\n",
      "      (conv2): Conv2d(128, 128, kernel_size=(3, 3), stride=(1, 1), padding=(1, 1), bias=False)\n",
      "      (bn2): BatchNorm2d(128, eps=1e-05, momentum=0.1, affine=True, track_running_stats=True)\n",
      "      (downsample): Sequential(\n",
      "        (0): Conv2d(64, 128, kernel_size=(1, 1), stride=(2, 2), bias=False)\n",
      "        (1): BatchNorm2d(128, eps=1e-05, momentum=0.1, affine=True, track_running_stats=True)\n",
      "      )\n",
      "    )\n",
      "    (1): BasicBlock(\n",
      "      (conv1): Conv2d(128, 128, kernel_size=(3, 3), stride=(1, 1), padding=(1, 1), bias=False)\n",
      "      (bn1): BatchNorm2d(128, eps=1e-05, momentum=0.1, affine=True, track_running_stats=True)\n",
      "      (relu): ReLU(inplace=True)\n",
      "      (conv2): Conv2d(128, 128, kernel_size=(3, 3), stride=(1, 1), padding=(1, 1), bias=False)\n",
      "      (bn2): BatchNorm2d(128, eps=1e-05, momentum=0.1, affine=True, track_running_stats=True)\n",
      "    )\n",
      "    (2): BasicBlock(\n",
      "      (conv1): Conv2d(128, 128, kernel_size=(3, 3), stride=(1, 1), padding=(1, 1), bias=False)\n",
      "      (bn1): BatchNorm2d(128, eps=1e-05, momentum=0.1, affine=True, track_running_stats=True)\n",
      "      (relu): ReLU(inplace=True)\n",
      "      (conv2): Conv2d(128, 128, kernel_size=(3, 3), stride=(1, 1), padding=(1, 1), bias=False)\n",
      "      (bn2): BatchNorm2d(128, eps=1e-05, momentum=0.1, affine=True, track_running_stats=True)\n",
      "    )\n",
      "    (3): BasicBlock(\n",
      "      (conv1): Conv2d(128, 128, kernel_size=(3, 3), stride=(1, 1), padding=(1, 1), bias=False)\n",
      "      (bn1): BatchNorm2d(128, eps=1e-05, momentum=0.1, affine=True, track_running_stats=True)\n",
      "      (relu): ReLU(inplace=True)\n",
      "      (conv2): Conv2d(128, 128, kernel_size=(3, 3), stride=(1, 1), padding=(1, 1), bias=False)\n",
      "      (bn2): BatchNorm2d(128, eps=1e-05, momentum=0.1, affine=True, track_running_stats=True)\n",
      "    )\n",
      "  )\n",
      "  (layer3): Sequential(\n",
      "    (0): BasicBlock(\n",
      "      (conv1): Conv2d(128, 256, kernel_size=(3, 3), stride=(2, 2), padding=(1, 1), bias=False)\n",
      "      (bn1): BatchNorm2d(256, eps=1e-05, momentum=0.1, affine=True, track_running_stats=True)\n",
      "      (relu): ReLU(inplace=True)\n",
      "      (conv2): Conv2d(256, 256, kernel_size=(3, 3), stride=(1, 1), padding=(1, 1), bias=False)\n",
      "      (bn2): BatchNorm2d(256, eps=1e-05, momentum=0.1, affine=True, track_running_stats=True)\n",
      "      (downsample): Sequential(\n",
      "        (0): Conv2d(128, 256, kernel_size=(1, 1), stride=(2, 2), bias=False)\n",
      "        (1): BatchNorm2d(256, eps=1e-05, momentum=0.1, affine=True, track_running_stats=True)\n",
      "      )\n",
      "    )\n",
      "    (1): BasicBlock(\n",
      "      (conv1): Conv2d(256, 256, kernel_size=(3, 3), stride=(1, 1), padding=(1, 1), bias=False)\n",
      "      (bn1): BatchNorm2d(256, eps=1e-05, momentum=0.1, affine=True, track_running_stats=True)\n",
      "      (relu): ReLU(inplace=True)\n",
      "      (conv2): Conv2d(256, 256, kernel_size=(3, 3), stride=(1, 1), padding=(1, 1), bias=False)\n",
      "      (bn2): BatchNorm2d(256, eps=1e-05, momentum=0.1, affine=True, track_running_stats=True)\n",
      "    )\n",
      "    (2): BasicBlock(\n",
      "      (conv1): Conv2d(256, 256, kernel_size=(3, 3), stride=(1, 1), padding=(1, 1), bias=False)\n",
      "      (bn1): BatchNorm2d(256, eps=1e-05, momentum=0.1, affine=True, track_running_stats=True)\n",
      "      (relu): ReLU(inplace=True)\n",
      "      (conv2): Conv2d(256, 256, kernel_size=(3, 3), stride=(1, 1), padding=(1, 1), bias=False)\n",
      "      (bn2): BatchNorm2d(256, eps=1e-05, momentum=0.1, affine=True, track_running_stats=True)\n",
      "    )\n",
      "    (3): BasicBlock(\n",
      "      (conv1): Conv2d(256, 256, kernel_size=(3, 3), stride=(1, 1), padding=(1, 1), bias=False)\n",
      "      (bn1): BatchNorm2d(256, eps=1e-05, momentum=0.1, affine=True, track_running_stats=True)\n",
      "      (relu): ReLU(inplace=True)\n",
      "      (conv2): Conv2d(256, 256, kernel_size=(3, 3), stride=(1, 1), padding=(1, 1), bias=False)\n",
      "      (bn2): BatchNorm2d(256, eps=1e-05, momentum=0.1, affine=True, track_running_stats=True)\n",
      "    )\n",
      "    (4): BasicBlock(\n",
      "      (conv1): Conv2d(256, 256, kernel_size=(3, 3), stride=(1, 1), padding=(1, 1), bias=False)\n",
      "      (bn1): BatchNorm2d(256, eps=1e-05, momentum=0.1, affine=True, track_running_stats=True)\n",
      "      (relu): ReLU(inplace=True)\n",
      "      (conv2): Conv2d(256, 256, kernel_size=(3, 3), stride=(1, 1), padding=(1, 1), bias=False)\n",
      "      (bn2): BatchNorm2d(256, eps=1e-05, momentum=0.1, affine=True, track_running_stats=True)\n",
      "    )\n",
      "    (5): BasicBlock(\n",
      "      (conv1): Conv2d(256, 256, kernel_size=(3, 3), stride=(1, 1), padding=(1, 1), bias=False)\n",
      "      (bn1): BatchNorm2d(256, eps=1e-05, momentum=0.1, affine=True, track_running_stats=True)\n",
      "      (relu): ReLU(inplace=True)\n",
      "      (conv2): Conv2d(256, 256, kernel_size=(3, 3), stride=(1, 1), padding=(1, 1), bias=False)\n",
      "      (bn2): BatchNorm2d(256, eps=1e-05, momentum=0.1, affine=True, track_running_stats=True)\n",
      "    )\n",
      "  )\n",
      "  (layer4): Sequential(\n",
      "    (0): BasicBlock(\n",
      "      (conv1): Conv2d(256, 512, kernel_size=(3, 3), stride=(2, 2), padding=(1, 1), bias=False)\n",
      "      (bn1): BatchNorm2d(512, eps=1e-05, momentum=0.1, affine=True, track_running_stats=True)\n",
      "      (relu): ReLU(inplace=True)\n",
      "      (conv2): Conv2d(512, 512, kernel_size=(3, 3), stride=(1, 1), padding=(1, 1), bias=False)\n",
      "      (bn2): BatchNorm2d(512, eps=1e-05, momentum=0.1, affine=True, track_running_stats=True)\n",
      "      (downsample): Sequential(\n",
      "        (0): Conv2d(256, 512, kernel_size=(1, 1), stride=(2, 2), bias=False)\n",
      "        (1): BatchNorm2d(512, eps=1e-05, momentum=0.1, affine=True, track_running_stats=True)\n",
      "      )\n",
      "    )\n",
      "    (1): BasicBlock(\n",
      "      (conv1): Conv2d(512, 512, kernel_size=(3, 3), stride=(1, 1), padding=(1, 1), bias=False)\n",
      "      (bn1): BatchNorm2d(512, eps=1e-05, momentum=0.1, affine=True, track_running_stats=True)\n",
      "      (relu): ReLU(inplace=True)\n",
      "      (conv2): Conv2d(512, 512, kernel_size=(3, 3), stride=(1, 1), padding=(1, 1), bias=False)\n",
      "      (bn2): BatchNorm2d(512, eps=1e-05, momentum=0.1, affine=True, track_running_stats=True)\n",
      "    )\n",
      "    (2): BasicBlock(\n",
      "      (conv1): Conv2d(512, 512, kernel_size=(3, 3), stride=(1, 1), padding=(1, 1), bias=False)\n",
      "      (bn1): BatchNorm2d(512, eps=1e-05, momentum=0.1, affine=True, track_running_stats=True)\n",
      "      (relu): ReLU(inplace=True)\n",
      "      (conv2): Conv2d(512, 512, kernel_size=(3, 3), stride=(1, 1), padding=(1, 1), bias=False)\n",
      "      (bn2): BatchNorm2d(512, eps=1e-05, momentum=0.1, affine=True, track_running_stats=True)\n",
      "    )\n",
      "  )\n",
      "  (avgpool): AdaptiveAvgPool2d(output_size=(1, 1))\n",
      "  (fc): Linear(in_features=512, out_features=10, bias=True)\n",
      ")\n"
     ]
    }
   ],
   "source": [
    "print(model)"
   ]
  },
  {
   "cell_type": "markdown",
   "metadata": {
    "id": "SI2cZxkvd8jw"
   },
   "source": [
    "### Anatomy of the ResNet model\n",
    "\n",
    "As you can see above, a ResNet model contains many convolutional layers, ReLU layers and pooling layers, among other features."
   ]
  },
  {
   "cell_type": "markdown",
   "metadata": {
    "id": "UrUbaQqgpmkV"
   },
   "source": [
    "#### Below we have the function which trains, tests and returns the best model weights."
   ]
  },
  {
   "cell_type": "code",
   "execution_count": 30,
   "metadata": {
    "executionInfo": {
     "elapsed": 778,
     "status": "ok",
     "timestamp": 1614057500123,
     "user": {
      "displayName": "Lee Dave",
      "photoUrl": "",
      "userId": "05486696857105351916"
     },
     "user_tz": -480
    },
    "id": "1baRVJnOpmkV"
   },
   "outputs": [],
   "source": [
    "def model_pipeline(model, criterion, optimizer, dset_loaders, dset_sizes, hyperparameters):\n",
    "    with wandb.init(project=\"HARVAR_BAI\", config=hyperparameters):\n",
    "        if hyperparameters['run_name']:\n",
    "            wandb.run.name = hyperparameters['run_name']\n",
    "        config = wandb.config\n",
    "        best_model = model\n",
    "        best_acc = 0.0\n",
    "        \n",
    "        print(config)\n",
    "        \n",
    "        print(config.num_epochs)\n",
    "        for epoch_num in range(config.num_epochs):\n",
    "            wandb.log({\"Current Epoch\": epoch_num})\n",
    "            model = train_model(model, criterion, optimizer, dset_loaders, dset_sizes, config)\n",
    "            best_acc, best_model = val_model(model, best_acc, best_model, dset_loaders, dset_sizes, config)\n",
    "    \n",
    "    return best_model"
   ]
  },
  {
   "cell_type": "markdown",
   "metadata": {
    "id": "1e7k8r9ypmkW"
   },
   "source": [
    "#### The different steps of the train model function are annotated below inside the function. Read them step by step"
   ]
  },
  {
   "cell_type": "code",
   "execution_count": 31,
   "metadata": {
    "executionInfo": {
     "elapsed": 849,
     "status": "ok",
     "timestamp": 1614057502586,
     "user": {
      "displayName": "Lee Dave",
      "photoUrl": "",
      "userId": "05486696857105351916"
     },
     "user_tz": -480
    },
    "id": "z_8fxYJ_pmkW"
   },
   "outputs": [],
   "source": [
    "def train_model(model, criterion, optimizer, dset_loaders, dset_sizes, configs):\n",
    "    print('Starting training epoch...')\n",
    "    best_model = model\n",
    "    best_acc = 0.0\n",
    "\n",
    "    \n",
    "    ### This tells python to track gradients. While testing weights aren't updated hence they are not stored.\n",
    "    model.train() \n",
    "    running_loss = 0.0\n",
    "    running_corrects = 0\n",
    "    iters = 0\n",
    "    \n",
    "    \n",
    "    ### We loop over the data loader we created above. Simply using a for loop.\n",
    "    for data in tqdm(dset_loaders['train']):\n",
    "        inputs, labels = data\n",
    "        \n",
    "        ### If you are using a gpu, then script will move the loaded data to the GPU. \n",
    "        ### If you are not using a gpu, ensure that wandb_configs['use_gpu'] is set to False above.\n",
    "        if configs.use_gpu:\n",
    "            inputs = inputs.float().cuda()\n",
    "            labels = labels.long().cuda()\n",
    "        else:\n",
    "            print('WARNING: NOT USING GPU!')\n",
    "            inputs = inputs.float()\n",
    "            labels = labels.long()\n",
    "\n",
    "        \n",
    "        ### We set the gradients to zero, then calculate the outputs, and the loss function. \n",
    "        ### Gradients for this process are automatically calculated by PyTorch.\n",
    "        \n",
    "        optimizer.zero_grad()\n",
    "        outputs = model(inputs)\n",
    "        _, preds = torch.max(outputs.data, 1)\n",
    "\n",
    "        loss = criterion(outputs, labels)\n",
    "        \n",
    "        \n",
    "        ### At this point, the program has calculated gradient of loss w.r.t. weights of our NN model.\n",
    "        loss.backward()\n",
    "        optimizer.step()\n",
    "        \n",
    "        ### optimizer.step() updated the models weights using calculated gradients.\n",
    "        \n",
    "        ### Let's store these and log them using wandb. They will be displayed in a nice online\n",
    "        ### dashboard for you to see.\n",
    "        \n",
    "        iters += 1\n",
    "        running_loss += loss.item()\n",
    "        running_corrects += torch.sum(preds == labels.data)\n",
    "        wandb.log({\"train_running_loss\": running_loss/float(iters*len(labels.data))})\n",
    "        wandb.log({\"train_running_corrects\": running_corrects/float(iters*len(labels.data))})\n",
    "\n",
    "    epoch_loss = float(running_loss) / dset_sizes['train']\n",
    "    epoch_acc = float(running_corrects) / float(dset_sizes['train'])\n",
    "    wandb.log({\"train_accuracy\": epoch_acc})\n",
    "    wandb.log({\"train_loss\": epoch_loss})\n",
    "    return model\n",
    "\n"
   ]
  },
  {
   "cell_type": "code",
   "execution_count": 32,
   "metadata": {
    "executionInfo": {
     "elapsed": 831,
     "status": "ok",
     "timestamp": 1614057524494,
     "user": {
      "displayName": "Lee Dave",
      "photoUrl": "",
      "userId": "05486696857105351916"
     },
     "user_tz": -480
    },
    "id": "qunChCjtpmkW"
   },
   "outputs": [],
   "source": [
    "def val_model(model, best_acc, best_model, dset_loaders, dset_sizes, configs):\n",
    "    print('Starting testing epoch...')\n",
    "    model.eval() ### tells pytorch to not store gradients as we won't be updating weights while testing.\n",
    "\n",
    "    running_corrects = 0\n",
    "    iters = 0   \n",
    "    for data in tqdm(dset_loaders['val']):\n",
    "        inputs, labels = data\n",
    "        if configs.use_gpu:\n",
    "            inputs = inputs.float().cuda()\n",
    "            labels = labels.long().cuda()\n",
    "        else:\n",
    "            print('WARNING: NOT USING GPU!')\n",
    "            inputs = inputs.float()\n",
    "            labels = labels.long()\n",
    "\n",
    "        \n",
    "        outputs = model(inputs)\n",
    "        _, preds = torch.max(outputs.data, 1)\n",
    "        \n",
    "        iters += 1\n",
    "        running_corrects += torch.sum(preds == labels.data)\n",
    "        wandb.log({\"train_running_corrects\": running_corrects/float(iters*len(labels.data))})\n",
    "\n",
    "\n",
    "    epoch_acc = float(running_corrects) / float(dset_sizes['val'])\n",
    "\n",
    "    wandb.log({\"test_accuracy\": epoch_acc})\n",
    "    \n",
    "    ### Code is very similar to train set. One major difference, we don't update weights. \n",
    "    ### We only check the performance is best so far, if so, we save this model as the best model so far.\n",
    "    \n",
    "    if epoch_acc > best_acc:\n",
    "        best_acc = epoch_acc\n",
    "        best_model = copy.deepcopy(model)\n",
    "    wandb.log({\"best_accuracy\": best_acc})\n",
    "    \n",
    "    return best_acc, best_model\n",
    "    "
   ]
  },
  {
   "cell_type": "markdown",
   "metadata": {
    "id": "3MTFyOmoL1Tu"
   },
   "source": [
    "# Make sure your runtime is GPU. If you changed your run time, make sure to run your code again from the top."
   ]
  },
  {
   "cell_type": "code",
   "execution_count": 33,
   "metadata": {
    "executionInfo": {
     "elapsed": 823,
     "status": "ok",
     "timestamp": 1614057530843,
     "user": {
      "displayName": "Lee Dave",
      "photoUrl": "",
      "userId": "05486696857105351916"
     },
     "user_tz": -480
    },
    "id": "91_E7yQ8pmkY"
   },
   "outputs": [],
   "source": [
    "### Criterion is simply specifying what loss to use. Here we choose cross entropy loss. \n",
    "criterion = nn.CrossEntropyLoss()\n",
    "\n",
    "### tells what optimizer to use. There are many options, we here choose Adam.\n",
    "### the main difference between optimizers is that they vary in how weights are updated based on calculated gradients.\n",
    "optimizer_ft = optim.Adam(model.parameters(), lr = wandb_config['base_lr'])\n",
    "\n",
    "if wandb_config['use_gpu']:\n",
    "    criterion.cuda()\n",
    "    model.cuda()"
   ]
  },
  {
   "cell_type": "code",
   "execution_count": 34,
   "metadata": {
    "executionInfo": {
     "elapsed": 777,
     "status": "ok",
     "timestamp": 1614057532481,
     "user": {
      "displayName": "Lee Dave",
      "photoUrl": "",
      "userId": "05486696857105351916"
     },
     "user_tz": -480
    },
    "id": "Yt5ctNudpmkY"
   },
   "outputs": [],
   "source": [
    "### Creating the folder where our models will be saved.\n",
    "if not os.path.isdir(\"%s/saved_models/\"%wandb_config['git_dir']):\n",
    "    os.mkdir(\"%s/saved_models/\"%wandb_config['git_dir'])"
   ]
  },
  {
   "cell_type": "code",
   "execution_count": 36,
   "metadata": {
    "executionInfo": {
     "elapsed": 780,
     "status": "ok",
     "timestamp": 1614057617986,
     "user": {
      "displayName": "Lee Dave",
      "photoUrl": "",
      "userId": "05486696857105351916"
     },
     "user_tz": -480
    },
    "id": "0Qg7kGgQTGB-"
   },
   "outputs": [],
   "source": [
    "os.environ[\"WANDB_START_METHOD\"] = \"fork\""
   ]
  },
  {
   "cell_type": "code",
   "execution_count": 37,
   "metadata": {
    "colab": {
     "base_uri": "https://localhost:8080/"
    },
    "executionInfo": {
     "elapsed": 877,
     "status": "ok",
     "timestamp": 1614057620444,
     "user": {
      "displayName": "Lee Dave",
      "photoUrl": "",
      "userId": "05486696857105351916"
     },
     "user_tz": -480
    },
    "id": "PtrlYCVMTfPv",
    "outputId": "a960c16c-3c14-4bdf-83aa-a54f9e163a6c"
   },
   "outputs": [
    {
     "name": "stdout",
     "output_type": "stream",
     "text": [
      "fork\n"
     ]
    }
   ],
   "source": [
    "print(os.environ[\"WANDB_START_METHOD\"])"
   ]
  },
  {
   "cell_type": "code",
   "execution_count": null,
   "metadata": {
    "id": "accYgj_-pmkY"
   },
   "outputs": [],
   "source": [
    "### Let's run it all, and save the final best model.\n",
    "best_final_model = model_pipeline(model, criterion, \n",
    "                                  optimizer_ft, dset_loaders, data_sizes, wandb_config)\n",
    "\n",
    "\n",
    "save_path = '%s/saved_models/%s_final.pt'%(wandb_config['git_dir'], wandb_config['run_name'])\n",
    "with open(save_path,'wb') as F:\n",
    "    torch.save(best_final_model,F)"
   ]
  },
  {
   "cell_type": "markdown",
   "metadata": {
    "id": "fbAT5FJCPONy"
   },
   "source": [
    "# If wandb gives you some unexpected errors above, just run the code below.\n",
    "\n",
    "Sometimes, wandb can run into an error when running on google colab for some reason. This is an active issue that wandb is looking into. So, as a workaround the code below does not rely on wandb, it simply calculates the loss and plots it."
   ]
  },
  {
   "cell_type": "code",
   "execution_count": 39,
   "metadata": {
    "executionInfo": {
     "elapsed": 427,
     "status": "ok",
     "timestamp": 1614057707303,
     "user": {
      "displayName": "Lee Dave",
      "photoUrl": "",
      "userId": "05486696857105351916"
     },
     "user_tz": -480
    },
    "id": "wLNXM8wgY9Zt"
   },
   "outputs": [],
   "source": [
    "from IPython.display import clear_output "
   ]
  },
  {
   "cell_type": "code",
   "execution_count": 40,
   "metadata": {
    "colab": {
     "base_uri": "https://localhost:8080/",
     "height": 282,
     "referenced_widgets": [
      "909606558de84d4a92df297e4c404990",
      "61c805ae045440aebb498732af91a34c",
      "d27161010eaa48239f4fb4eb61041a7a",
      "be2160bed82c490f98f3debf632136b7",
      "6fb9daf161a045d8bd249f7378427967",
      "e5c890a56b374d858dc5044aa678ea48",
      "79e177db5cd442f880d9279aa9f518a8",
      "6faccfec92614fbc958c1276045406ff"
     ]
    },
    "executionInfo": {
     "elapsed": 2607532,
     "status": "ok",
     "timestamp": 1614060324608,
     "user": {
      "displayName": "Lee Dave",
      "photoUrl": "",
      "userId": "05486696857105351916"
     },
     "user_tz": -480
    },
    "id": "mwEPrEpRWn3t",
    "outputId": "6edc5bc9-d015-4298-dc6a-61db3f757622"
   },
   "outputs": [
    {
     "data": {
      "image/png": "[encoded data removed]",
      "text/plain": [
       "<Figure size 432x288 with 1 Axes>"
      ]
     },
     "metadata": {
      "needs_background": "light",
      "tags": []
     },
     "output_type": "display_data"
    },
    {
     "name": "stdout",
     "output_type": "stream",
     "text": [
      "\n"
     ]
    }
   ],
   "source": [
    "losses = []\n",
    "for epoch in range(2):\n",
    "    for data in tqdm(dset_loaders['train']):\n",
    "        inputs, labels, _ = data\n",
    "        \n",
    "        ### If you are using a gpu, then script will move the loaded data to the GPU. \n",
    "        ### If you are not using a gpu, ensure that wandb_configs['use_gpu'] is set to False above.\n",
    "        if wandb_config['use_gpu']:\n",
    "            inputs = inputs.float().cuda()\n",
    "            labels = labels.long().cuda()\n",
    "        else:\n",
    "            print('WARNING: NOT USING GPU!')\n",
    "            inputs = inputs.float()\n",
    "            labels = labels.long()\n",
    "\n",
    "        \n",
    "        ### We set the gradients to zero, then calculate the outputs, and the loss function. \n",
    "        ### Gradients for this process are automatically calculated by PyTorch.\n",
    "        \n",
    "        optimizer_ft.zero_grad()\n",
    "        outputs = model(inputs)\n",
    "        _, preds = torch.max(outputs.data, 1)\n",
    "\n",
    "        loss = criterion(outputs, labels)\n",
    "        \n",
    "        \n",
    "        ### At this point, the program has calculated gradient of loss w.r.t. weights of our NN model.\n",
    "        loss.backward()\n",
    "        optimizer_ft.step()\n",
    "        losses.append(loss)\n",
    "        clear_output()\n",
    "        plt.plot(losses)\n",
    "        plt.show()"
   ]
  },
  {
   "cell_type": "markdown",
   "metadata": {
    "id": "zcxInTMApmkZ"
   },
   "source": [
    "### Congratulations!\n",
    "\n",
    "You just completed your dog vs cats classification! "
   ]
  },
  {
   "cell_type": "markdown",
   "metadata": {
    "id": "tUC8UOzYpmkZ"
   },
   "source": [
    "# Deliverables for Assignment 2: \n",
    "\n",
    "### Like assignment 1, the delivarables are two fold:\n",
    "\n",
    "Please run this assignment through to the end, and then make two submissions:\n",
    "\n",
    "- Download this notebook as an HTML file. Click File ---> Download as ---> HTML. Submit this on canvas.\n",
    "- Add, commit and push these changes to your github repository."
   ]
  }
 ],
 "metadata": {
  "accelerator": "GPU",
  "colab": {
   "collapsed_sections": [],
   "name": "Assignment2.ipynb",
   "provenance": [],
   "toc_visible": true
  },
  "kernelspec": {
   "display_name": "Python 3",
   "language": "python",
   "name": "python3"
  },
  "language_info": {
   "codemirror_mode": {
    "name": "ipython",
    "version": 3
   },
   "file_extension": ".py",
   "mimetype": "text/x-python",
   "name": "python",
   "nbconvert_exporter": "python",
   "pygments_lexer": "ipython3",
   "version": "3.7.1"
  },
  "widgets": {
   "application/vnd.jupyter.widget-state+json": {
    "0a9a56b41c4643bcbcbcba2d0e7e0516": {
     "model_module": "@jupyter-widgets/controls",
     "model_name": "ProgressStyleModel",
     "state": {
      "_model_module": "@jupyter-widgets/controls",
      "_model_module_version": "1.5.0",
      "_model_name": "ProgressStyleModel",
      "_view_count": null,
      "_view_module": "@jupyter-widgets/base",
      "_view_module_version": "1.2.0",
      "_view_name": "StyleView",
      "bar_color": null,
      "description_width": "initial"
     }
    },
    "22019e2d5be14c179a757640cf4435b8": {
     "model_module": "@jupyter-widgets/controls",
     "model_name": "DescriptionStyleModel",
     "state": {
      "_model_module": "@jupyter-widgets/controls",
      "_model_module_version": "1.5.0",
      "_model_name": "DescriptionStyleModel",
      "_view_count": null,
      "_view_module": "@jupyter-widgets/base",
      "_view_module_version": "1.2.0",
      "_view_name": "StyleView",
      "description_width": ""
     }
    },
    "3d60a4688daf4a418f4d9c4f00ae693b": {
     "model_module": "@jupyter-widgets/base",
     "model_name": "LayoutModel",
     "state": {
      "_model_module": "@jupyter-widgets/base",
      "_model_module_version": "1.2.0",
      "_model_name": "LayoutModel",
      "_view_count": null,
      "_view_module": "@jupyter-widgets/base",
      "_view_module_version": "1.2.0",
      "_view_name": "LayoutView",
      "align_content": null,
      "align_items": null,
      "align_self": null,
      "border": null,
      "bottom": null,
      "display": null,
      "flex": null,
      "flex_flow": null,
      "grid_area": null,
      "grid_auto_columns": null,
      "grid_auto_flow": null,
      "grid_auto_rows": null,
      "grid_column": null,
      "grid_gap": null,
      "grid_row": null,
      "grid_template_areas": null,
      "grid_template_columns": null,
      "grid_template_rows": null,
      "height": null,
      "justify_content": null,
      "justify_items": null,
      "left": null,
      "margin": null,
      "max_height": null,
      "max_width": null,
      "min_height": null,
      "min_width": null,
      "object_fit": null,
      "object_position": null,
      "order": null,
      "overflow": null,
      "overflow_x": null,
      "overflow_y": null,
      "padding": null,
      "right": null,
      "top": null,
      "visibility": null,
      "width": null
     }
    },
    "3db11449fee148689b9383b1f766339d": {
     "model_module": "@jupyter-widgets/base",
     "model_name": "LayoutModel",
     "state": {
      "_model_module": "@jupyter-widgets/base",
      "_model_module_version": "1.2.0",
      "_model_name": "LayoutModel",
      "_view_count": null,
      "_view_module": "@jupyter-widgets/base",
      "_view_module_version": "1.2.0",
      "_view_name": "LayoutView",
      "align_content": null,
      "align_items": null,
      "align_self": null,
      "border": null,
      "bottom": null,
      "display": null,
      "flex": null,
      "flex_flow": null,
      "grid_area": null,
      "grid_auto_columns": null,
      "grid_auto_flow": null,
      "grid_auto_rows": null,
      "grid_column": null,
      "grid_gap": null,
      "grid_row": null,
      "grid_template_areas": null,
      "grid_template_columns": null,
      "grid_template_rows": null,
      "height": null,
      "justify_content": null,
      "justify_items": null,
      "left": null,
      "margin": null,
      "max_height": null,
      "max_width": null,
      "min_height": null,
      "min_width": null,
      "object_fit": null,
      "object_position": null,
      "order": null,
      "overflow": null,
      "overflow_x": null,
      "overflow_y": null,
      "padding": null,
      "right": null,
      "top": null,
      "visibility": null,
      "width": null
     }
    },
    "466f58c1f3d146e19a23d9a239a6d2e8": {
     "model_module": "@jupyter-widgets/base",
     "model_name": "LayoutModel",
     "state": {
      "_model_module": "@jupyter-widgets/base",
      "_model_module_version": "1.2.0",
      "_model_name": "LayoutModel",
      "_view_count": null,
      "_view_module": "@jupyter-widgets/base",
      "_view_module_version": "1.2.0",
      "_view_name": "LayoutView",
      "align_content": null,
      "align_items": null,
      "align_self": null,
      "border": null,
      "bottom": null,
      "display": null,
      "flex": null,
      "flex_flow": null,
      "grid_area": null,
      "grid_auto_columns": null,
      "grid_auto_flow": null,
      "grid_auto_rows": null,
      "grid_column": null,
      "grid_gap": null,
      "grid_row": null,
      "grid_template_areas": null,
      "grid_template_columns": null,
      "grid_template_rows": null,
      "height": null,
      "justify_content": null,
      "justify_items": null,
      "left": null,
      "margin": null,
      "max_height": null,
      "max_width": null,
      "min_height": null,
      "min_width": null,
      "object_fit": null,
      "object_position": null,
      "order": null,
      "overflow": null,
      "overflow_x": null,
      "overflow_y": null,
      "padding": null,
      "right": null,
      "top": null,
      "visibility": null,
      "width": null
     }
    },
    "52a1668daffc4076827979d8ff556984": {
     "model_module": "@jupyter-widgets/base",
     "model_name": "LayoutModel",
     "state": {
      "_model_module": "@jupyter-widgets/base",
      "_model_module_version": "1.2.0",
      "_model_name": "LayoutModel",
      "_view_count": null,
      "_view_module": "@jupyter-widgets/base",
      "_view_module_version": "1.2.0",
      "_view_name": "LayoutView",
      "align_content": null,
      "align_items": null,
      "align_self": null,
      "border": null,
      "bottom": null,
      "display": null,
      "flex": null,
      "flex_flow": null,
      "grid_area": null,
      "grid_auto_columns": null,
      "grid_auto_flow": null,
      "grid_auto_rows": null,
      "grid_column": null,
      "grid_gap": null,
      "grid_row": null,
      "grid_template_areas": null,
      "grid_template_columns": null,
      "grid_template_rows": null,
      "height": null,
      "justify_content": null,
      "justify_items": null,
      "left": null,
      "margin": null,
      "max_height": null,
      "max_width": null,
      "min_height": null,
      "min_width": null,
      "object_fit": null,
      "object_position": null,
      "order": null,
      "overflow": null,
      "overflow_x": null,
      "overflow_y": null,
      "padding": null,
      "right": null,
      "top": null,
      "visibility": null,
      "width": null
     }
    },
    "5d4d39b604cb4955a01460cad0a4b64f": {
     "model_module": "@jupyter-widgets/base",
     "model_name": "LayoutModel",
     "state": {
      "_model_module": "@jupyter-widgets/base",
      "_model_module_version": "1.2.0",
      "_model_name": "LayoutModel",
      "_view_count": null,
      "_view_module": "@jupyter-widgets/base",
      "_view_module_version": "1.2.0",
      "_view_name": "LayoutView",
      "align_content": null,
      "align_items": null,
      "align_self": null,
      "border": null,
      "bottom": null,
      "display": null,
      "flex": null,
      "flex_flow": null,
      "grid_area": null,
      "grid_auto_columns": null,
      "grid_auto_flow": null,
      "grid_auto_rows": null,
      "grid_column": null,
      "grid_gap": null,
      "grid_row": null,
      "grid_template_areas": null,
      "grid_template_columns": null,
      "grid_template_rows": null,
      "height": null,
      "justify_content": null,
      "justify_items": null,
      "left": null,
      "margin": null,
      "max_height": null,
      "max_width": null,
      "min_height": null,
      "min_width": null,
      "object_fit": null,
      "object_position": null,
      "order": null,
      "overflow": null,
      "overflow_x": null,
      "overflow_y": null,
      "padding": null,
      "right": null,
      "top": null,
      "visibility": null,
      "width": null
     }
    },
    "60bea0996b294dcab163e4514b1eeddd": {
     "model_module": "@jupyter-widgets/controls",
     "model_name": "FloatProgressModel",
     "state": {
      "_dom_classes": [],
      "_model_module": "@jupyter-widgets/controls",
      "_model_module_version": "1.5.0",
      "_model_name": "FloatProgressModel",
      "_view_count": null,
      "_view_module": "@jupyter-widgets/controls",
      "_view_module_version": "1.5.0",
      "_view_name": "ProgressView",
      "bar_style": "success",
      "description": "100%",
      "description_tooltip": null,
      "layout": "IPY_MODEL_466f58c1f3d146e19a23d9a239a6d2e8",
      "max": 87306240,
      "min": 0,
      "orientation": "horizontal",
      "style": "IPY_MODEL_0a9a56b41c4643bcbcbcba2d0e7e0516",
      "value": 87306240
     }
    },
    "61c805ae045440aebb498732af91a34c": {
     "model_module": "@jupyter-widgets/base",
     "model_name": "LayoutModel",
     "state": {
      "_model_module": "@jupyter-widgets/base",
      "_model_module_version": "1.2.0",
      "_model_name": "LayoutModel",
      "_view_count": null,
      "_view_module": "@jupyter-widgets/base",
      "_view_module_version": "1.2.0",
      "_view_name": "LayoutView",
      "align_content": null,
      "align_items": null,
      "align_self": null,
      "border": null,
      "bottom": null,
      "display": null,
      "flex": null,
      "flex_flow": null,
      "grid_area": null,
      "grid_auto_columns": null,
      "grid_auto_flow": null,
      "grid_auto_rows": null,
      "grid_column": null,
      "grid_gap": null,
      "grid_row": null,
      "grid_template_areas": null,
      "grid_template_columns": null,
      "grid_template_rows": null,
      "height": null,
      "justify_content": null,
      "justify_items": null,
      "left": null,
      "margin": null,
      "max_height": null,
      "max_width": null,
      "min_height": null,
      "min_width": null,
      "object_fit": null,
      "object_position": null,
      "order": null,
      "overflow": null,
      "overflow_x": null,
      "overflow_y": null,
      "padding": null,
      "right": null,
      "top": null,
      "visibility": null,
      "width": null
     }
    },
    "6faccfec92614fbc958c1276045406ff": {
     "model_module": "@jupyter-widgets/base",
     "model_name": "LayoutModel",
     "state": {
      "_model_module": "@jupyter-widgets/base",
      "_model_module_version": "1.2.0",
      "_model_name": "LayoutModel",
      "_view_count": null,
      "_view_module": "@jupyter-widgets/base",
      "_view_module_version": "1.2.0",
      "_view_name": "LayoutView",
      "align_content": null,
      "align_items": null,
      "align_self": null,
      "border": null,
      "bottom": null,
      "display": null,
      "flex": null,
      "flex_flow": null,
      "grid_area": null,
      "grid_auto_columns": null,
      "grid_auto_flow": null,
      "grid_auto_rows": null,
      "grid_column": null,
      "grid_gap": null,
      "grid_row": null,
      "grid_template_areas": null,
      "grid_template_columns": null,
      "grid_template_rows": null,
      "height": null,
      "justify_content": null,
      "justify_items": null,
      "left": null,
      "margin": null,
      "max_height": null,
      "max_width": null,
      "min_height": null,
      "min_width": null,
      "object_fit": null,
      "object_position": null,
      "order": null,
      "overflow": null,
      "overflow_x": null,
      "overflow_y": null,
      "padding": null,
      "right": null,
      "top": null,
      "visibility": null,
      "width": null
     }
    },
    "6fb9daf161a045d8bd249f7378427967": {
     "model_module": "@jupyter-widgets/controls",
     "model_name": "ProgressStyleModel",
     "state": {
      "_model_module": "@jupyter-widgets/controls",
      "_model_module_version": "1.5.0",
      "_model_name": "ProgressStyleModel",
      "_view_count": null,
      "_view_module": "@jupyter-widgets/base",
      "_view_module_version": "1.2.0",
      "_view_name": "StyleView",
      "bar_color": null,
      "description_width": "initial"
     }
    },
    "79e177db5cd442f880d9279aa9f518a8": {
     "model_module": "@jupyter-widgets/controls",
     "model_name": "DescriptionStyleModel",
     "state": {
      "_model_module": "@jupyter-widgets/controls",
      "_model_module_version": "1.5.0",
      "_model_name": "DescriptionStyleModel",
      "_view_count": null,
      "_view_module": "@jupyter-widgets/base",
      "_view_module_version": "1.2.0",
      "_view_name": "StyleView",
      "description_width": ""
     }
    },
    "909606558de84d4a92df297e4c404990": {
     "model_module": "@jupyter-widgets/controls",
     "model_name": "HBoxModel",
     "state": {
      "_dom_classes": [],
      "_model_module": "@jupyter-widgets/controls",
      "_model_module_version": "1.5.0",
      "_model_name": "HBoxModel",
      "_view_count": null,
      "_view_module": "@jupyter-widgets/controls",
      "_view_module_version": "1.5.0",
      "_view_name": "HBoxView",
      "box_style": "",
      "children": [
       "IPY_MODEL_d27161010eaa48239f4fb4eb61041a7a",
       "IPY_MODEL_be2160bed82c490f98f3debf632136b7"
      ],
      "layout": "IPY_MODEL_61c805ae045440aebb498732af91a34c"
     }
    },
    "9704da5310ff474eaba108fdfd33b0ac": {
     "model_module": "@jupyter-widgets/controls",
     "model_name": "FloatProgressModel",
     "state": {
      "_dom_classes": [],
      "_model_module": "@jupyter-widgets/controls",
      "_model_module_version": "1.5.0",
      "_model_name": "FloatProgressModel",
      "_view_count": null,
      "_view_module": "@jupyter-widgets/controls",
      "_view_module_version": "1.5.0",
      "_view_name": "ProgressView",
      "bar_style": "success",
      "description": "100%",
      "description_tooltip": null,
      "layout": "IPY_MODEL_3d60a4688daf4a418f4d9c4f00ae693b",
      "max": 46827520,
      "min": 0,
      "orientation": "horizontal",
      "style": "IPY_MODEL_e3dcf743b697411e9079464c6b558eff",
      "value": 46827520
     }
    },
    "a4e907be908f4f5bb0608954b11c7f81": {
     "model_module": "@jupyter-widgets/controls",
     "model_name": "HTMLModel",
     "state": {
      "_dom_classes": [],
      "_model_module": "@jupyter-widgets/controls",
      "_model_module_version": "1.5.0",
      "_model_name": "HTMLModel",
      "_view_count": null,
      "_view_module": "@jupyter-widgets/controls",
      "_view_module_version": "1.5.0",
      "_view_name": "HTMLView",
      "description": "",
      "description_tooltip": null,
      "layout": "IPY_MODEL_52a1668daffc4076827979d8ff556984",
      "placeholder": "​",
      "style": "IPY_MODEL_22019e2d5be14c179a757640cf4435b8",
      "value": " 44.7M/44.7M [13:33&lt;00:00, 57.6kB/s]"
     }
    },
    "b213ceb4c786456ab4994ebc418e54a3": {
     "model_module": "@jupyter-widgets/controls",
     "model_name": "HBoxModel",
     "state": {
      "_dom_classes": [],
      "_model_module": "@jupyter-widgets/controls",
      "_model_module_version": "1.5.0",
      "_model_name": "HBoxModel",
      "_view_count": null,
      "_view_module": "@jupyter-widgets/controls",
      "_view_module_version": "1.5.0",
      "_view_name": "HBoxView",
      "box_style": "",
      "children": [
       "IPY_MODEL_9704da5310ff474eaba108fdfd33b0ac",
       "IPY_MODEL_a4e907be908f4f5bb0608954b11c7f81"
      ],
      "layout": "IPY_MODEL_5d4d39b604cb4955a01460cad0a4b64f"
     }
    },
    "b2e0c9740a37457d828525bfe76a52f8": {
     "model_module": "@jupyter-widgets/base",
     "model_name": "LayoutModel",
     "state": {
      "_model_module": "@jupyter-widgets/base",
      "_model_module_version": "1.2.0",
      "_model_name": "LayoutModel",
      "_view_count": null,
      "_view_module": "@jupyter-widgets/base",
      "_view_module_version": "1.2.0",
      "_view_name": "LayoutView",
      "align_content": null,
      "align_items": null,
      "align_self": null,
      "border": null,
      "bottom": null,
      "display": null,
      "flex": null,
      "flex_flow": null,
      "grid_area": null,
      "grid_auto_columns": null,
      "grid_auto_flow": null,
      "grid_auto_rows": null,
      "grid_column": null,
      "grid_gap": null,
      "grid_row": null,
      "grid_template_areas": null,
      "grid_template_columns": null,
      "grid_template_rows": null,
      "height": null,
      "justify_content": null,
      "justify_items": null,
      "left": null,
      "margin": null,
      "max_height": null,
      "max_width": null,
      "min_height": null,
      "min_width": null,
      "object_fit": null,
      "object_position": null,
      "order": null,
      "overflow": null,
      "overflow_x": null,
      "overflow_y": null,
      "padding": null,
      "right": null,
      "top": null,
      "visibility": null,
      "width": null
     }
    },
    "b6ba9eb63ac746048b59c65098e6a0dd": {
     "model_module": "@jupyter-widgets/controls",
     "model_name": "DescriptionStyleModel",
     "state": {
      "_model_module": "@jupyter-widgets/controls",
      "_model_module_version": "1.5.0",
      "_model_name": "DescriptionStyleModel",
      "_view_count": null,
      "_view_module": "@jupyter-widgets/base",
      "_view_module_version": "1.2.0",
      "_view_name": "StyleView",
      "description_width": ""
     }
    },
    "bd1e3d523e474aeebfcd812dee6dd865": {
     "model_module": "@jupyter-widgets/controls",
     "model_name": "HBoxModel",
     "state": {
      "_dom_classes": [],
      "_model_module": "@jupyter-widgets/controls",
      "_model_module_version": "1.5.0",
      "_model_name": "HBoxModel",
      "_view_count": null,
      "_view_module": "@jupyter-widgets/controls",
      "_view_module_version": "1.5.0",
      "_view_name": "HBoxView",
      "box_style": "",
      "children": [
       "IPY_MODEL_60bea0996b294dcab163e4514b1eeddd",
       "IPY_MODEL_cf7b0f4ce9e8487cba9dc6c4ce7eaef0"
      ],
      "layout": "IPY_MODEL_3db11449fee148689b9383b1f766339d"
     }
    },
    "be2160bed82c490f98f3debf632136b7": {
     "model_module": "@jupyter-widgets/controls",
     "model_name": "HTMLModel",
     "state": {
      "_dom_classes": [],
      "_model_module": "@jupyter-widgets/controls",
      "_model_module_version": "1.5.0",
      "_model_name": "HTMLModel",
      "_view_count": null,
      "_view_module": "@jupyter-widgets/controls",
      "_view_module_version": "1.5.0",
      "_view_name": "HTMLView",
      "description": "",
      "description_tooltip": null,
      "layout": "IPY_MODEL_6faccfec92614fbc958c1276045406ff",
      "placeholder": "​",
      "style": "IPY_MODEL_79e177db5cd442f880d9279aa9f518a8",
      "value": " 2001/2001 [35:19&lt;00:00,  1.06s/it]"
     }
    },
    "cf7b0f4ce9e8487cba9dc6c4ce7eaef0": {
     "model_module": "@jupyter-widgets/controls",
     "model_name": "HTMLModel",
     "state": {
      "_dom_classes": [],
      "_model_module": "@jupyter-widgets/controls",
      "_model_module_version": "1.5.0",
      "_model_name": "HTMLModel",
      "_view_count": null,
      "_view_module": "@jupyter-widgets/controls",
      "_view_module_version": "1.5.0",
      "_view_name": "HTMLView",
      "description": "",
      "description_tooltip": null,
      "layout": "IPY_MODEL_b2e0c9740a37457d828525bfe76a52f8",
      "placeholder": "​",
      "style": "IPY_MODEL_b6ba9eb63ac746048b59c65098e6a0dd",
      "value": " 83.3M/83.3M [00:00&lt;00:00, 166MB/s]"
     }
    },
    "d27161010eaa48239f4fb4eb61041a7a": {
     "model_module": "@jupyter-widgets/controls",
     "model_name": "FloatProgressModel",
     "state": {
      "_dom_classes": [],
      "_model_module": "@jupyter-widgets/controls",
      "_model_module_version": "1.5.0",
      "_model_name": "FloatProgressModel",
      "_view_count": null,
      "_view_module": "@jupyter-widgets/controls",
      "_view_module_version": "1.5.0",
      "_view_name": "ProgressView",
      "bar_style": "success",
      "description": "100%",
      "description_tooltip": null,
      "layout": "IPY_MODEL_e5c890a56b374d858dc5044aa678ea48",
      "max": 2001,
      "min": 0,
      "orientation": "horizontal",
      "style": "IPY_MODEL_6fb9daf161a045d8bd249f7378427967",
      "value": 2001
     }
    },
    "e3dcf743b697411e9079464c6b558eff": {
     "model_module": "@jupyter-widgets/controls",
     "model_name": "ProgressStyleModel",
     "state": {
      "_model_module": "@jupyter-widgets/controls",
      "_model_module_version": "1.5.0",
      "_model_name": "ProgressStyleModel",
      "_view_count": null,
      "_view_module": "@jupyter-widgets/base",
      "_view_module_version": "1.2.0",
      "_view_name": "StyleView",
      "bar_color": null,
      "description_width": "initial"
     }
    },
    "e5c890a56b374d858dc5044aa678ea48": {
     "model_module": "@jupyter-widgets/base",
     "model_name": "LayoutModel",
     "state": {
      "_model_module": "@jupyter-widgets/base",
      "_model_module_version": "1.2.0",
      "_model_name": "LayoutModel",
      "_view_count": null,
      "_view_module": "@jupyter-widgets/base",
      "_view_module_version": "1.2.0",
      "_view_name": "LayoutView",
      "align_content": null,
      "align_items": null,
      "align_self": null,
      "border": null,
      "bottom": null,
      "display": null,
      "flex": null,
      "flex_flow": null,
      "grid_area": null,
      "grid_auto_columns": null,
      "grid_auto_flow": null,
      "grid_auto_rows": null,
      "grid_column": null,
      "grid_gap": null,
      "grid_row": null,
      "grid_template_areas": null,
      "grid_template_columns": null,
      "grid_template_rows": null,
      "height": null,
      "justify_content": null,
      "justify_items": null,
      "left": null,
      "margin": null,
      "max_height": null,
      "max_width": null,
      "min_height": null,
      "min_width": null,
      "object_fit": null,
      "object_position": null,
      "order": null,
      "overflow": null,
      "overflow_x": null,
      "overflow_y": null,
      "padding": null,
      "right": null,
      "top": null,
      "visibility": null,
      "width": null
     }
    }
   }
  }
 },
 "nbformat": 4,
 "nbformat_minor": 1
}
